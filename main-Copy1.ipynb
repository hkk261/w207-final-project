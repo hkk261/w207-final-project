{
 "cells": [
  {
   "cell_type": "markdown",
   "metadata": {},
   "source": [
    "# Final Project"
   ]
  },
  {
   "cell_type": "markdown",
   "metadata": {},
   "source": [
    "#### ``Objectives``\n"
   ]
  },
  {
   "cell_type": "code",
   "execution_count": null,
   "metadata": {},
   "outputs": [],
   "source": []
  },
  {
   "cell_type": "markdown",
   "metadata": {},
   "source": [
    "#### ``Motivation``"
   ]
  },
  {
   "cell_type": "markdown",
   "metadata": {},
   "source": []
  },
  {
   "cell_type": "markdown",
   "metadata": {},
   "source": [
    "#### ``Data``"
   ]
  },
  {
   "cell_type": "markdown",
   "metadata": {},
   "source": []
  },
  {
   "cell_type": "markdown",
   "metadata": {},
   "source": [
    "---\n",
    "### Step 1: Import libraries"
   ]
  },
  {
   "cell_type": "code",
   "execution_count": 1,
   "metadata": {},
   "outputs": [],
   "source": [
    "\n",
    "# to get into VM terminal:\n",
    "# docker-compose exec anaconda bash\n",
    "# then:\n",
    "# !conda install -y tensorflow"
   ]
  },
  {
   "cell_type": "code",
   "execution_count": 2,
   "metadata": {},
   "outputs": [],
   "source": [
    "# !conda list"
   ]
  },
  {
   "cell_type": "code",
   "execution_count": null,
   "metadata": {},
   "outputs": [],
   "source": []
  },
  {
   "cell_type": "code",
   "execution_count": 3,
   "metadata": {},
   "outputs": [],
   "source": [
    "# !conda install -y scikit-learn"
   ]
  },
  {
   "cell_type": "code",
   "execution_count": 4,
   "metadata": {},
   "outputs": [],
   "source": [
    "# ! conda install conda-forge::tensorflow"
   ]
  },
  {
   "cell_type": "code",
   "execution_count": 5,
   "metadata": {},
   "outputs": [],
   "source": [
    "# ! conda install anaconda::scikit-learn"
   ]
  },
  {
   "cell_type": "code",
   "execution_count": 6,
   "metadata": {},
   "outputs": [],
   "source": [
    "# standard\n",
    "import os\n",
    "import numpy as np\n",
    "import pandas as pd\n",
    "\n",
    "# tf and keras\n",
    "import tensorflow as tf\n",
    "from tensorflow.keras.preprocessing.image import ImageDataGenerator\n",
    "from tensorflow.keras.models import Sequential\n",
    "from tensorflow.keras.layers import Conv2D, MaxPooling2D, Flatten, Dense, Dropout\n",
    "from tensorflow.keras.optimizers import Adam\n",
    "\n",
    "# sklearn\n",
    "from sklearn.metrics import accuracy_score\n",
    "from sklearn.metrics import confusion_matrix, ConfusionMatrixDisplay\n",
    "from sklearn import utils as sk_utils\n",
    "\n",
    "# plots\n",
    "import seaborn as sns\n",
    "import matplotlib.pyplot as plt"
   ]
  },
  {
   "cell_type": "markdown",
   "metadata": {},
   "source": [
    "---\n",
    "### Step 2: Data ingestion"
   ]
  },
  {
   "cell_type": "code",
   "execution_count": null,
   "metadata": {},
   "outputs": [],
   "source": []
  },
  {
   "cell_type": "code",
   "execution_count": 7,
   "metadata": {},
   "outputs": [
    {
     "name": "stdout",
     "output_type": "stream",
     "text": [
      "Train Dataset: 706\n",
      "fake: 353\n",
      "real: 353\n",
      "Validation Dataset: 234\n",
      "fake: 117\n",
      "real: 117\n",
      "Test Dataset: 238\n",
      "fake: 119\n",
      "real: 119\n",
      "Full Dataset: 1178\n",
      "fake: 589\n",
      "real: 589\n"
     ]
    }
   ],
   "source": [
    "# Define paths containing the images\n",
    "data_dir = \"data\"\n",
    "fake_dir = os.path.join(data_dir, \"fake\")\n",
    "real_dir = os.path.join(data_dir, \"real\")\n",
    "\n",
    "def get_dataset(fake_dir, real_dir, balance=False):\n",
    "    fake_images = [os.path.join(fake_dir, f) for f in os.listdir(fake_dir)]\n",
    "    real_images = [os.path.join(real_dir, f) for f in os.listdir(real_dir)]\n",
    "\n",
    "    if balance:\n",
    "        \"\"\"Truncates each class to the minimum count\"\"\"\n",
    "        min_images = min(len(fake_images), len(real_images))\n",
    "        fake_images = fake_images[:min_images]\n",
    "        real_images = real_images[:min_images]\n",
    "\n",
    "    image_paths = fake_images + real_images\n",
    "    labels = [\"fake\"] * len(fake_images) + [\"real\"] * len(real_images)\n",
    "    return image_paths, labels\n",
    "\n",
    "def split_indices(indices, split_ratio):\n",
    "    train = int(split_ratio[0] * len(indices))\n",
    "    val = int(split_ratio[1] * len(indices))\n",
    "\n",
    "    train_idx = indices[:train]\n",
    "    val_idx = indices[train : train + val]\n",
    "    test_idx = indices[train + val :]\n",
    "    return train_idx, val_idx, test_idx\n",
    "\n",
    "def split_data(image_paths, labels, split_ratio, seed=42, balance=False):\n",
    "    image_paths, labels = np.array(image_paths), np.array(labels)\n",
    "\n",
    "    np.random.seed(seed)\n",
    "\n",
    "    if not balance:\n",
    "        idx = np.arange(len(image_paths))\n",
    "        np.random.shuffle(idx)\n",
    "        train_idx, val_idx, test_idx = split_indices(idx, split_ratio)\n",
    "\n",
    "    else:\n",
    "        \"\"\"Balance class by class\"\"\"\n",
    "        fake_idx = np.where(labels == \"fake\")[0]\n",
    "        real_idx = np.where(labels == \"real\")[0]\n",
    "\n",
    "        np.random.shuffle(fake_idx)\n",
    "        np.random.shuffle(real_idx)\n",
    "\n",
    "        fake_train, fake_val, fake_test = split_indices(fake_idx, split_ratio)\n",
    "        real_train, real_val, real_test = split_indices(real_idx, split_ratio)\n",
    "\n",
    "        train_idx = np.concatenate([fake_train, real_train])\n",
    "        val_idx = np.concatenate([fake_val, real_val])\n",
    "        test_idx = np.concatenate([fake_test, real_test])\n",
    "\n",
    "        np.random.shuffle(train_idx)\n",
    "        np.random.shuffle(val_idx)\n",
    "        np.random.shuffle(test_idx)\n",
    "\n",
    "    return (\n",
    "        (image_paths[train_idx], labels[train_idx]),\n",
    "        (image_paths[val_idx], labels[val_idx]),\n",
    "        (image_paths[test_idx], labels[test_idx]),\n",
    "    )\n",
    "\n",
    "def print_dataset(name, labels_array):\n",
    "    print(f\"{name} Dataset: {len(labels_array)}\")\n",
    "    print(f\"fake: {np.sum(labels_array == 'fake')}\")\n",
    "    print(f\"real: {np.sum(labels_array == 'real')}\")\n",
    "\n",
    "image_paths, labels = get_dataset(fake_dir, real_dir, balance=True)\n",
    "(train_x, train_y), (val_x, val_y), (test_x, test_y) = split_data(\n",
    "    image_paths, labels, split_ratio=[0.6, 0.2, 0.2], balance=True\n",
    ")\n",
    "\n",
    "print_dataset(\"Train\", train_y)\n",
    "print_dataset(\"Validation\", val_y)\n",
    "print_dataset(\"Test\", test_y)\n",
    "print_dataset(\"Full\", np.concatenate([train_y, val_y, test_y]))"
   ]
  },
  {
   "cell_type": "markdown",
   "metadata": {},
   "source": [
    "---\n",
    "### Step 3: Exploratory Data Analysis (EDA)"
   ]
  },
  {
   "cell_type": "code",
   "execution_count": 8,
   "metadata": {},
   "outputs": [],
   "source": [
    "# TODO: print histogram and sample images"
   ]
  },
  {
   "cell_type": "markdown",
   "metadata": {},
   "source": [
    "---\n",
    "### Step 4: Data preprocessing"
   ]
  },
  {
   "cell_type": "code",
   "execution_count": 9,
   "metadata": {},
   "outputs": [
    {
     "name": "stdout",
     "output_type": "stream",
     "text": [
      "Found 706 validated image filenames belonging to 2 classes.\n",
      "Found 234 validated image filenames belonging to 2 classes.\n",
      "Found 238 validated image filenames belonging to 2 classes.\n"
     ]
    }
   ],
   "source": [
    "train_df = pd.DataFrame({\"image_path\": train_x, \"label\": train_y})\n",
    "val_df = pd.DataFrame({\"image_path\": val_x, \"label\": val_y})\n",
    "test_df = pd.DataFrame({\"image_path\": test_x, \"label\": test_y})\n",
    "\n",
    "# Image properties\n",
    "img_height, img_width = 300, 300\n",
    "batch_size = 32\n",
    "\n",
    "# Data augmentation and loading\n",
    "train_datagen = ImageDataGenerator(\n",
    "    rescale=1.0 / 255,\n",
    "    rotation_range=20,\n",
    "    width_shift_range=0.2,\n",
    "    height_shift_range=0.2,\n",
    "    shear_range=0.2,\n",
    "    zoom_range=0.2,\n",
    "    horizontal_flip=True,\n",
    ")\n",
    "val_test_datagen = ImageDataGenerator(rescale=1.0 / 255)\n",
    "\n",
    "train_set = train_datagen.flow_from_dataframe(\n",
    "    dataframe=train_df,\n",
    "    x_col=\"image_path\",\n",
    "    y_col=\"label\",\n",
    "    target_size=(img_height, img_width),\n",
    "    batch_size=batch_size,\n",
    "    class_mode=\"binary\",\n",
    ")\n",
    "\n",
    "val_set = val_test_datagen.flow_from_dataframe(\n",
    "    dataframe=val_df,\n",
    "    x_col=\"image_path\",\n",
    "    y_col=\"label\",\n",
    "    target_size=(img_height, img_width),\n",
    "    batch_size=batch_size,\n",
    "    class_mode=\"binary\",\n",
    ")\n",
    "\n",
    "test_set = val_test_datagen.flow_from_dataframe(\n",
    "    dataframe=test_df,\n",
    "    x_col=\"image_path\",\n",
    "    y_col=\"label\",\n",
    "    target_size=(img_height, img_width),\n",
    "    batch_size=batch_size,\n",
    "    class_mode=\"binary\",\n",
    "    shuffle=False,\n",
    ")"
   ]
  },
  {
   "cell_type": "markdown",
   "metadata": {},
   "source": [
    "---\n",
    "### Step 5: Modeling"
   ]
  },
  {
   "cell_type": "code",
   "execution_count": 10,
   "metadata": {},
   "outputs": [],
   "source": [
    "# Define a custom early stopping class\n",
    "# Early stopping callback: stops training when both train and validation accuracy are high enough\n",
    "class CustomEarlyStopping(tf.keras.callbacks.Callback):\n",
    "    def on_epoch_end(self, epoch, logs=None):\n",
    "        stop_acc = 0.9\n",
    "        train_acc = logs.get(\"accuracy\")\n",
    "        val_acc = logs.get(\"val_accuracy\")\n",
    "        if train_acc >= stop_acc and val_acc >= stop_acc:\n",
    "            print(\n",
    "                f\"\\nStopping early at epoch {epoch + 1} - train accuracy: {train_acc:.4f}, validation accuracy: {val_acc:.4f}\"\n",
    "            )\n",
    "            self.model.stop_training = True"
   ]
  },
  {
   "cell_type": "code",
   "execution_count": 11,
   "metadata": {},
   "outputs": [
    {
     "name": "stderr",
     "output_type": "stream",
     "text": [
      "2025-04-11 19:10:41.774443: I tensorflow/compiler/jit/xla_cpu_device.cc:41] Not creating XLA devices, tf_xla_enable_xla_devices not set\n",
      "2025-04-11 19:10:41.774631: I tensorflow/core/platform/cpu_feature_guard.cc:142] This TensorFlow binary is optimized with oneAPI Deep Neural Network Library (oneDNN) to use the following CPU instructions in performance-critical operations:  SSE4.1 SSE4.2 AVX AVX2 FMA\n",
      "To enable them in other operations, rebuild TensorFlow with the appropriate compiler flags.\n",
      "2025-04-11 19:10:41.785590: I tensorflow/core/common_runtime/process_util.cc:146] Creating new thread pool with default inter op setting: 2. Tune using inter_op_parallelism_threads for best performance.\n",
      "2025-04-11 19:10:42.574704: I tensorflow/compiler/mlir/mlir_graph_optimization_pass.cc:116] None of the MLIR optimization passes are enabled (registered 2)\n",
      "2025-04-11 19:10:42.575429: I tensorflow/core/platform/profile_utils/cpu_utils.cc:112] CPU Frequency: 2299995000 Hz\n"
     ]
    },
    {
     "name": "stdout",
     "output_type": "stream",
     "text": [
      "Epoch 1/50\n",
      "23/23 [==============================] - 56s 2s/step - loss: 0.7449 - accuracy: 0.4808 - val_loss: 0.6794 - val_accuracy: 0.5043\n",
      "Epoch 2/50\n",
      "23/23 [==============================] - 53s 2s/step - loss: 0.6861 - accuracy: 0.5342 - val_loss: 0.6445 - val_accuracy: 0.6624\n",
      "Epoch 3/50\n",
      "23/23 [==============================] - 53s 2s/step - loss: 0.6525 - accuracy: 0.6402 - val_loss: 0.5820 - val_accuracy: 0.6795\n",
      "Epoch 4/50\n",
      "23/23 [==============================] - 54s 2s/step - loss: 0.6085 - accuracy: 0.6466 - val_loss: 0.5196 - val_accuracy: 0.8248\n",
      "Epoch 5/50\n",
      "23/23 [==============================] - 54s 2s/step - loss: 0.5496 - accuracy: 0.7416 - val_loss: 0.4567 - val_accuracy: 0.8462\n",
      "Epoch 6/50\n",
      "23/23 [==============================] - 53s 2s/step - loss: 0.5307 - accuracy: 0.7416 - val_loss: 0.4673 - val_accuracy: 0.8034\n",
      "Epoch 7/50\n",
      "23/23 [==============================] - 54s 2s/step - loss: 0.5253 - accuracy: 0.7693 - val_loss: 0.4144 - val_accuracy: 0.8632\n",
      "Epoch 8/50\n",
      "23/23 [==============================] - 54s 2s/step - loss: 0.4562 - accuracy: 0.8099 - val_loss: 0.4157 - val_accuracy: 0.7906\n",
      "Epoch 9/50\n",
      "23/23 [==============================] - 54s 2s/step - loss: 0.4646 - accuracy: 0.7754 - val_loss: 0.3403 - val_accuracy: 0.8932\n",
      "Epoch 10/50\n",
      "23/23 [==============================] - 54s 2s/step - loss: 0.4515 - accuracy: 0.7999 - val_loss: 0.3094 - val_accuracy: 0.9017\n",
      "Epoch 11/50\n",
      "23/23 [==============================] - 53s 2s/step - loss: 0.4347 - accuracy: 0.8028 - val_loss: 0.3551 - val_accuracy: 0.9103\n",
      "Epoch 12/50\n",
      "23/23 [==============================] - 54s 2s/step - loss: 0.4505 - accuracy: 0.7686 - val_loss: 0.3245 - val_accuracy: 0.8974\n",
      "Epoch 13/50\n",
      "23/23 [==============================] - 54s 2s/step - loss: 0.3877 - accuracy: 0.8178 - val_loss: 0.2836 - val_accuracy: 0.9103\n",
      "Epoch 14/50\n",
      "23/23 [==============================] - 53s 2s/step - loss: 0.4243 - accuracy: 0.8326 - val_loss: 0.2770 - val_accuracy: 0.8889\n",
      "Epoch 15/50\n",
      "23/23 [==============================] - 53s 2s/step - loss: 0.4164 - accuracy: 0.8231 - val_loss: 0.2523 - val_accuracy: 0.9274\n",
      "Epoch 16/50\n",
      "23/23 [==============================] - 54s 2s/step - loss: 0.3524 - accuracy: 0.8550 - val_loss: 0.2421 - val_accuracy: 0.9103\n",
      "Epoch 17/50\n",
      "23/23 [==============================] - 54s 2s/step - loss: 0.3443 - accuracy: 0.8548 - val_loss: 0.2487 - val_accuracy: 0.9402\n",
      "Epoch 18/50\n",
      "23/23 [==============================] - 54s 2s/step - loss: 0.3943 - accuracy: 0.8143 - val_loss: 0.2810 - val_accuracy: 0.8889\n",
      "Epoch 19/50\n",
      "23/23 [==============================] - 54s 2s/step - loss: 0.4007 - accuracy: 0.8158 - val_loss: 0.2742 - val_accuracy: 0.8974\n",
      "Epoch 20/50\n",
      "23/23 [==============================] - 53s 2s/step - loss: 0.3302 - accuracy: 0.8681 - val_loss: 0.2586 - val_accuracy: 0.9060\n",
      "Epoch 21/50\n",
      "23/23 [==============================] - 54s 2s/step - loss: 0.3635 - accuracy: 0.8410 - val_loss: 0.2402 - val_accuracy: 0.9231\n",
      "Epoch 22/50\n",
      "23/23 [==============================] - 53s 2s/step - loss: 0.3411 - accuracy: 0.8647 - val_loss: 0.2470 - val_accuracy: 0.9145\n",
      "Epoch 23/50\n",
      "23/23 [==============================] - 54s 2s/step - loss: 0.3608 - accuracy: 0.8462 - val_loss: 0.2668 - val_accuracy: 0.8932\n",
      "Epoch 24/50\n",
      "23/23 [==============================] - 54s 2s/step - loss: 0.4018 - accuracy: 0.8009 - val_loss: 0.2638 - val_accuracy: 0.9145\n",
      "Epoch 25/50\n",
      "23/23 [==============================] - 54s 2s/step - loss: 0.4063 - accuracy: 0.8307 - val_loss: 0.2148 - val_accuracy: 0.9359\n",
      "Epoch 26/50\n",
      "23/23 [==============================] - 54s 2s/step - loss: 0.3397 - accuracy: 0.8610 - val_loss: 0.2160 - val_accuracy: 0.9231\n",
      "Epoch 27/50\n",
      "23/23 [==============================] - 54s 2s/step - loss: 0.3605 - accuracy: 0.8370 - val_loss: 0.2912 - val_accuracy: 0.8761\n",
      "Epoch 28/50\n",
      "23/23 [==============================] - 54s 2s/step - loss: 0.3514 - accuracy: 0.8650 - val_loss: 0.2126 - val_accuracy: 0.9316\n",
      "Epoch 29/50\n",
      "23/23 [==============================] - 54s 2s/step - loss: 0.3205 - accuracy: 0.8712 - val_loss: 0.2720 - val_accuracy: 0.9145\n",
      "Epoch 30/50\n",
      "23/23 [==============================] - 55s 2s/step - loss: 0.3590 - accuracy: 0.8450 - val_loss: 0.2374 - val_accuracy: 0.9231\n",
      "Epoch 31/50\n",
      "23/23 [==============================] - 54s 2s/step - loss: 0.3267 - accuracy: 0.8692 - val_loss: 0.2212 - val_accuracy: 0.9231\n",
      "Epoch 32/50\n",
      "23/23 [==============================] - 54s 2s/step - loss: 0.3249 - accuracy: 0.8689 - val_loss: 0.2408 - val_accuracy: 0.9145\n",
      "Epoch 33/50\n",
      "23/23 [==============================] - 54s 2s/step - loss: 0.3201 - accuracy: 0.8743 - val_loss: 0.2147 - val_accuracy: 0.9188\n",
      "Epoch 34/50\n",
      "23/23 [==============================] - 54s 2s/step - loss: 0.2805 - accuracy: 0.8820 - val_loss: 0.1931 - val_accuracy: 0.9316\n",
      "Epoch 35/50\n",
      "23/23 [==============================] - 54s 2s/step - loss: 0.3030 - accuracy: 0.8804 - val_loss: 0.2353 - val_accuracy: 0.9188\n",
      "Epoch 36/50\n",
      "23/23 [==============================] - 53s 2s/step - loss: 0.3270 - accuracy: 0.8685 - val_loss: 0.2189 - val_accuracy: 0.9145\n",
      "Epoch 37/50\n",
      "23/23 [==============================] - 54s 2s/step - loss: 0.3468 - accuracy: 0.8461 - val_loss: 0.1999 - val_accuracy: 0.9359\n",
      "Epoch 38/50\n",
      "23/23 [==============================] - 53s 2s/step - loss: 0.2875 - accuracy: 0.8938 - val_loss: 0.2373 - val_accuracy: 0.9017\n",
      "Epoch 39/50\n",
      "23/23 [==============================] - 54s 2s/step - loss: 0.2984 - accuracy: 0.8691 - val_loss: 0.1808 - val_accuracy: 0.9316\n",
      "Epoch 40/50\n",
      "23/23 [==============================] - 54s 2s/step - loss: 0.2777 - accuracy: 0.8824 - val_loss: 0.2253 - val_accuracy: 0.9231\n",
      "Epoch 41/50\n",
      "23/23 [==============================] - 54s 2s/step - loss: 0.2805 - accuracy: 0.8927 - val_loss: 0.1827 - val_accuracy: 0.9316\n",
      "Epoch 42/50\n",
      "23/23 [==============================] - 54s 2s/step - loss: 0.2987 - accuracy: 0.8690 - val_loss: 0.1876 - val_accuracy: 0.9231\n",
      "Epoch 43/50\n",
      "23/23 [==============================] - 54s 2s/step - loss: 0.3112 - accuracy: 0.8710 - val_loss: 0.2038 - val_accuracy: 0.9316\n",
      "Epoch 44/50\n",
      "23/23 [==============================] - 54s 2s/step - loss: 0.2525 - accuracy: 0.9028 - val_loss: 0.2946 - val_accuracy: 0.8675\n",
      "Epoch 45/50\n",
      "23/23 [==============================] - 54s 2s/step - loss: 0.3470 - accuracy: 0.8333 - val_loss: 0.1922 - val_accuracy: 0.9359\n",
      "Epoch 46/50\n",
      "23/23 [==============================] - 54s 2s/step - loss: 0.2751 - accuracy: 0.8885 - val_loss: 0.2564 - val_accuracy: 0.9017\n",
      "Epoch 47/50\n",
      "23/23 [==============================] - 54s 2s/step - loss: 0.3266 - accuracy: 0.8705 - val_loss: 0.1965 - val_accuracy: 0.9530\n",
      "Epoch 48/50\n",
      "23/23 [==============================] - 54s 2s/step - loss: 0.3306 - accuracy: 0.8646 - val_loss: 0.1982 - val_accuracy: 0.9402\n",
      "Epoch 49/50\n",
      "23/23 [==============================] - 53s 2s/step - loss: 0.2954 - accuracy: 0.8952 - val_loss: 0.1777 - val_accuracy: 0.9274\n",
      "Epoch 50/50\n",
      "23/23 [==============================] - 53s 2s/step - loss: 0.2535 - accuracy: 0.8910 - val_loss: 0.1850 - val_accuracy: 0.9402\n"
     ]
    }
   ],
   "source": [
    "# Define the CNN\n",
    "model = Sequential()\n",
    "\n",
    "model.add(\n",
    "    Conv2D(\n",
    "        filters=32,\n",
    "        kernel_size=(3, 3),\n",
    "        activation=\"relu\",\n",
    "        input_shape=(img_height, img_width, 3),\n",
    "    )\n",
    ")\n",
    "model.add(MaxPooling2D(pool_size=2, strides=2))\n",
    "\n",
    "model.add(Conv2D(filters=64, kernel_size=(3, 3), activation=\"relu\"))\n",
    "model.add(MaxPooling2D(pool_size=2, strides=2))\n",
    "\n",
    "model.add(Conv2D(filters=128, kernel_size=(3, 3), activation=\"relu\"))\n",
    "model.add(MaxPooling2D(pool_size=2, strides=2))\n",
    "\n",
    "model.add(Flatten())\n",
    "model.add(Dense(units=128, activation=\"relu\"))\n",
    "model.add(Dropout(rate=0.5))\n",
    "\n",
    "model.add(Dense(units=1, activation=\"sigmoid\"))  # Binary classification\n",
    "\n",
    "# Compile the model\n",
    "learning_rate = 0.0001\n",
    "model.compile(\n",
    "    optimizer=Adam(learning_rate=learning_rate),\n",
    "    loss=\"binary_crossentropy\",\n",
    "    metrics=[\"accuracy\"],\n",
    ")\n",
    "\n",
    "# Train the model\n",
    "max_epochs = 50\n",
    "history = model.fit(\n",
    "    train_set,\n",
    "    validation_data=val_set,\n",
    "    epochs=max_epochs,\n",
    "    callbacks=[CustomEarlyStopping()],\n",
    ")"
   ]
  },
  {
   "cell_type": "markdown",
   "metadata": {},
   "source": [
    "---\n",
    "### Step 6: Evaluation"
   ]
  },
  {
   "cell_type": "code",
   "execution_count": 12,
   "metadata": {},
   "outputs": [
    {
     "name": "stdout",
     "output_type": "stream",
     "text": [
      "8/8 [==============================] - 4s 506ms/step - loss: 0.2002 - accuracy: 0.9370\n",
      "Test Accuracy: 0.9370\n"
     ]
    }
   ],
   "source": [
    "# Evaluate on test set\n",
    "test_loss, test_acc = model.evaluate(test_set)\n",
    "print(f\"Test Accuracy: {test_acc:.4f}\")"
   ]
  }
 ],
 "metadata": {
  "kernelspec": {
   "display_name": "Python 3 (ipykernel)",
   "language": "python",
   "name": "python3"
  },
  "language_info": {
   "codemirror_mode": {
    "name": "ipython",
    "version": 3
   },
   "file_extension": ".py",
   "mimetype": "text/x-python",
   "name": "python",
   "nbconvert_exporter": "python",
   "pygments_lexer": "ipython3",
   "version": "3.9.7"
  }
 },
 "nbformat": 4,
 "nbformat_minor": 4
}
