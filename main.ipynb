{
 "cells": [
  {
   "cell_type": "markdown",
   "metadata": {},
   "source": [
    "# Final Project"
   ]
  },
  {
   "cell_type": "markdown",
   "metadata": {},
   "source": [
    "#### ``Objectives``\n"
   ]
  },
  {
   "cell_type": "markdown",
   "metadata": {},
   "source": []
  },
  {
   "cell_type": "markdown",
   "metadata": {},
   "source": [
    "#### ``Motivation``"
   ]
  },
  {
   "cell_type": "markdown",
   "metadata": {},
   "source": []
  },
  {
   "cell_type": "markdown",
   "metadata": {},
   "source": [
    "#### ``Data``"
   ]
  },
  {
   "cell_type": "markdown",
   "metadata": {},
   "source": []
  },
  {
   "cell_type": "markdown",
   "metadata": {},
   "source": [
    "---\n",
    "### Step 1: Import libraries"
   ]
  },
  {
   "cell_type": "code",
   "execution_count": null,
   "metadata": {},
   "outputs": [],
   "source": [
    "# standard\n",
    "import os\n",
    "import numpy as np\n",
    "import pandas as pd\n",
    "\n",
    "# tf and keras\n",
    "import tensorflow as tf\n",
    "from tensorflow.keras.preprocessing.image import ImageDataGenerator, load_img\n",
    "from tensorflow.keras.models import Sequential\n",
    "from tensorflow.keras.layers import Conv2D, MaxPooling2D, Flatten, Dense, Dropout\n",
    "from tensorflow.keras.optimizers import Adam\n",
    "\n",
    "# sklearn\n",
    "from sklearn.metrics import accuracy_score\n",
    "from sklearn.metrics import confusion_matrix, ConfusionMatrixDisplay\n",
    "from sklearn import utils as sk_utils\n",
    "\n",
    "# plots\n",
    "import seaborn as sns\n",
    "import matplotlib.pyplot as plt"
   ]
  },
  {
   "cell_type": "markdown",
   "metadata": {},
   "source": [
    "---\n",
    "### Step 2: Data ingestion"
   ]
  },
  {
   "cell_type": "code",
   "execution_count": null,
   "metadata": {},
   "outputs": [],
   "source": [
    "# Define paths containing the images\n",
    "data_dir = \"data\"\n",
    "fake_dir = os.path.join(data_dir, \"fake\")\n",
    "real_dir = os.path.join(data_dir, \"real\")\n",
    "\n",
    "def get_dataset(fake_dir, real_dir, balance=False):\n",
    "    fake_images = [os.path.join(fake_dir, f) for f in os.listdir(fake_dir)]\n",
    "    real_images = [os.path.join(real_dir, f) for f in os.listdir(real_dir)]\n",
    "\n",
    "    if balance:\n",
    "        \"\"\"Truncates each class to the minimum count\"\"\"\n",
    "        min_images = min(len(fake_images), len(real_images))\n",
    "        fake_images = fake_images[:min_images]\n",
    "        real_images = real_images[:min_images]\n",
    "\n",
    "    image_paths = fake_images + real_images\n",
    "    labels = [\"fake\"] * len(fake_images) + [\"real\"] * len(real_images)\n",
    "    return image_paths, labels\n",
    "\n",
    "def split_indices(indices, split_ratio):\n",
    "    train = int(split_ratio[0] * len(indices))\n",
    "    val = int(split_ratio[1] * len(indices))\n",
    "\n",
    "    train_idx = indices[:train]\n",
    "    val_idx = indices[train : train + val]\n",
    "    test_idx = indices[train + val :]\n",
    "    return train_idx, val_idx, test_idx\n",
    "\n",
    "def split_data(image_paths, labels, split_ratio, seed=42, balance=False):\n",
    "    image_paths, labels = np.array(image_paths), np.array(labels)\n",
    "\n",
    "    np.random.seed(seed)\n",
    "\n",
    "    if not balance:\n",
    "        idx = np.arange(len(image_paths))\n",
    "        np.random.shuffle(idx)\n",
    "        train_idx, val_idx, test_idx = split_indices(idx, split_ratio)\n",
    "\n",
    "    else:\n",
    "        \"\"\"Balance class by class\"\"\"\n",
    "        fake_idx = np.where(labels == \"fake\")[0]\n",
    "        real_idx = np.where(labels == \"real\")[0]\n",
    "\n",
    "        np.random.shuffle(fake_idx)\n",
    "        np.random.shuffle(real_idx)\n",
    "\n",
    "        fake_train, fake_val, fake_test = split_indices(fake_idx, split_ratio)\n",
    "        real_train, real_val, real_test = split_indices(real_idx, split_ratio)\n",
    "\n",
    "        train_idx = np.concatenate([fake_train, real_train])\n",
    "        val_idx = np.concatenate([fake_val, real_val])\n",
    "        test_idx = np.concatenate([fake_test, real_test])\n",
    "\n",
    "        np.random.shuffle(train_idx)\n",
    "        np.random.shuffle(val_idx)\n",
    "        np.random.shuffle(test_idx)\n",
    "\n",
    "    return (\n",
    "        (image_paths[train_idx], labels[train_idx]),\n",
    "        (image_paths[val_idx], labels[val_idx]),\n",
    "        (image_paths[test_idx], labels[test_idx]),\n",
    "    )\n",
    "\n",
    "def print_dataset(name, labels_array):\n",
    "    print(f\"{name} Dataset: {len(labels_array)}\")\n",
    "    print(f\"fake: {np.sum(labels_array == 'fake')}\")\n",
    "    print(f\"real: {np.sum(labels_array == 'real')}\")\n",
    "\n",
    "image_paths, labels = get_dataset(fake_dir, real_dir, balance=True)\n",
    "(train_x, train_y), (val_x, val_y), (test_x, test_y) = split_data(\n",
    "    image_paths, labels, split_ratio=[0.6, 0.2, 0.2], balance=True\n",
    ")\n",
    "\n",
    "print_dataset(\"Train\", train_y)\n",
    "print_dataset(\"Validation\", val_y)\n",
    "print_dataset(\"Test\", test_y)\n",
    "print_dataset(\"Full\", np.concatenate([train_y, val_y, test_y]))"
   ]
  },
  {
   "cell_type": "markdown",
   "metadata": {},
   "source": [
    "---\n",
    "### Step 3: Exploratory Data Analysis (EDA)"
   ]
  },
  {
   "cell_type": "code",
   "execution_count": null,
   "metadata": {},
   "outputs": [],
   "source": [
    "plt.hist(labels, bins=len(set(labels)), edgecolor='black')\n",
    "plt.xlabel('Class')\n",
    "plt.ylabel('Count')\n",
    "plt.title('Histogram of Labels')\n",
    "plt.show()"
   ]
  },
  {
   "cell_type": "code",
   "execution_count": null,
   "metadata": {},
   "outputs": [],
   "source": [
    "# load images\n",
    "images = []\n",
    "\n",
    "for path in image_paths:\n",
    "    img = load_img(path)\n",
    "    images.append(img)\n",
    "\n",
    "real_ind = [i for i, x in enumerate(labels) if x == \"real\"]\n",
    "fake_ind = [i for i, x in enumerate(labels) if x == \"fake\"]\n",
    "\n",
    "real_images = [images[i] for i in real_ind]\n",
    "fake_images = [images[i] for i in fake_ind]"
   ]
  },
  {
   "cell_type": "code",
   "execution_count": null,
   "metadata": {},
   "outputs": [],
   "source": [
    "# Show real and fake faces\n",
    "plt.figure(figsize=(10, 5))\n",
    "\n",
    "# Show 4 real faces\n",
    "for i in range(4):\n",
    "    plt.subplot(2, 4, i+1)\n",
    "    plt.imshow(real_images[i])\n",
    "    plt.axis('off')\n",
    "    plt.title(\"Real\")\n",
    "\n",
    "# Show 4 fake faces\n",
    "for i in range(4):\n",
    "    plt.subplot(2, 4, 4 + i + 1)\n",
    "    plt.imshow(fake_images[i])\n",
    "    plt.axis('off')\n",
    "    plt.title(\"Fake\")\n",
    "\n",
    "plt.suptitle(\"Real vs Fake Faces\", fontsize=16)\n",
    "plt.show()"
   ]
  },
  {
   "cell_type": "code",
   "execution_count": null,
   "metadata": {},
   "outputs": [],
   "source": [
    "# Avg pixel intesity\n",
    "avg_pixels_real = [np.mean(img) for img in np.array(real_images)]\n",
    "avg_pixels_fake = [np.mean(img) for img in np.array(fake_images)]\n",
    "\n",
    "fig, axs = plt.subplots(1, 2, figsize=(12, 5))\n",
    "\n",
    "# Real\n",
    "axs[0].hist(avg_pixels_real, range(0, 256+5, 5), color='gray', edgecolor='black')\n",
    "axs[0].set_xlabel('Average Pixel Intensity')\n",
    "axs[0].set_ylabel('Number of Images')\n",
    "axs[0].set_title('Histogram of Average Pixel Intensities (Real)')\n",
    "axs[0].set_xlim(0, 255)\n",
    "\n",
    "# Fake\n",
    "axs[1].hist(avg_pixels_fake, range(0, 256+5, 5), color='gray', edgecolor='black')\n",
    "axs[1].set_xlabel('Average Pixel Intensity')\n",
    "axs[1].set_ylabel('Number of Images')\n",
    "axs[1].set_title('Histogram of Average Pixel Intensities (fake)')\n",
    "axs[1].set_xlim(0, 255)\n",
    "\n",
    "plt.show()"
   ]
  },
  {
   "cell_type": "code",
   "execution_count": null,
   "metadata": {},
   "outputs": [],
   "source": [
    "fig, ax = plt.subplots(figsize=(8, 5))\n",
    "\n",
    "ax.hist(avg_pixels_real, bins=range(0, 256+5, 5), label='real', color='blue', alpha=0.5)\n",
    "ax.hist(avg_pixels_fake, bins=range(0, 256+5, 5), label='fake', color='red', alpha=0.5)\n",
    "ax.set_title(\"Histogram of Average Pixel Intensities\")\n",
    "ax.set_xlabel(\"Average Pixel Intensity\")\n",
    "ax.set_ylabel(\"Number of Images\")\n",
    "ax.set_xlim(0,255)\n",
    "ax.legend()\n",
    "\n",
    "plt.show()"
   ]
  },
  {
   "cell_type": "code",
   "execution_count": null,
   "metadata": {},
   "outputs": [],
   "source": [
    "# Average Per channel (RGB)\n",
    "\n",
    "avg_per_channel_real = [img.mean(axis=(0, 1)) for img in np.array(real_images)]\n",
    "avg_per_channel_fake = [img.mean(axis=(0, 1)) for img in np.array(fake_images)]\n",
    "\n",
    "fig, axs = plt.subplots(1, 2, figsize=(12, 5))\n",
    "\n",
    "axs[0].hist([arr[0] for arr in avg_per_channel_real], bins=range(0, 256+5, 5), color='red', alpha=0.5, label='Red')\n",
    "axs[0].hist([arr[1] for arr in avg_per_channel_real], bins=range(0, 256+5, 5), color='green', alpha=0.5, label='Green')\n",
    "axs[0].hist([arr[2] for arr in avg_per_channel_real], bins=range(0, 256+5, 5), color='blue', alpha=0.5, label='Blue')\n",
    "axs[0].set_title(\"Histogram of Average Intensity per Channel (Real)\")\n",
    "axs[0].set_xlabel(\"Average Intensity\")\n",
    "axs[0].set_ylabel(\"Number of Images\")\n",
    "axs[0].set_xlim(0,255)\n",
    "axs[0].legend()\n",
    "\n",
    "axs[1].hist([arr[0] for arr in avg_per_channel_fake], bins=range(0, 256+5, 5), color='red', alpha=0.5, label='Red')\n",
    "axs[1].hist([arr[1] for arr in avg_per_channel_fake], bins=range(0, 256+5, 5), color='green', alpha=0.5, label='Green')\n",
    "axs[1].hist([arr[2] for arr in avg_per_channel_fake], bins=range(0, 256+5, 5), color='blue', alpha=0.5, label='Blue')\n",
    "axs[1].set_title(\"Histogram of Average Intensity per Channel (Fake)\")\n",
    "axs[1].set_xlabel(\"Average Intensity\")\n",
    "axs[1].set_ylabel(\"Number of Images\")\n",
    "axs[1].set_xlim(0,255)\n",
    "axs[1].legend()\n",
    "plt.show()"
   ]
  },
  {
   "cell_type": "markdown",
   "metadata": {},
   "source": [
    "---\n",
    "### Step 4: Data preprocessing"
   ]
  },
  {
   "cell_type": "code",
   "execution_count": null,
   "metadata": {},
   "outputs": [],
   "source": [
    "train_df = pd.DataFrame({\"image_path\": train_x, \"label\": train_y})\n",
    "val_df = pd.DataFrame({\"image_path\": val_x, \"label\": val_y})\n",
    "test_df = pd.DataFrame({\"image_path\": test_x, \"label\": test_y})\n",
    "\n",
    "# Image properties\n",
    "img_height, img_width = 300, 300\n",
    "batch_size = 32\n",
    "\n",
    "# Data augmentation and loading\n",
    "train_datagen = ImageDataGenerator(\n",
    "    rescale=1.0 / 255,\n",
    "    rotation_range=20,\n",
    "    width_shift_range=0.2,\n",
    "    height_shift_range=0.2,\n",
    "    shear_range=0.2,\n",
    "    zoom_range=0.2,\n",
    "    horizontal_flip=True,\n",
    ")\n",
    "val_test_datagen = ImageDataGenerator(rescale=1.0 / 255)\n",
    "\n",
    "train_set = train_datagen.flow_from_dataframe(\n",
    "    dataframe=train_df,\n",
    "    x_col=\"image_path\",\n",
    "    y_col=\"label\",\n",
    "    target_size=(img_height, img_width),\n",
    "    batch_size=batch_size,\n",
    "    class_mode=\"binary\",\n",
    ")\n",
    "\n",
    "val_set = val_test_datagen.flow_from_dataframe(\n",
    "    dataframe=val_df,\n",
    "    x_col=\"image_path\",\n",
    "    y_col=\"label\",\n",
    "    target_size=(img_height, img_width),\n",
    "    batch_size=batch_size,\n",
    "    class_mode=\"binary\",\n",
    ")\n",
    "\n",
    "test_set = val_test_datagen.flow_from_dataframe(\n",
    "    dataframe=test_df,\n",
    "    x_col=\"image_path\",\n",
    "    y_col=\"label\",\n",
    "    target_size=(img_height, img_width),\n",
    "    batch_size=batch_size,\n",
    "    class_mode=\"binary\",\n",
    "    shuffle=False,\n",
    ")"
   ]
  },
  {
   "cell_type": "markdown",
   "metadata": {},
   "source": [
    "---\n",
    "### Step 5: Modeling"
   ]
  },
  {
   "cell_type": "code",
   "execution_count": null,
   "metadata": {},
   "outputs": [],
   "source": [
    "# Define a custom early stopping class\n",
    "# Early stopping callback: stops training when both train and validation accuracy are high enough\n",
    "class CustomEarlyStopping(tf.keras.callbacks.Callback):\n",
    "    def on_epoch_end(self, epoch, logs=None):\n",
    "        stop_acc = 0.9\n",
    "        train_acc = logs.get(\"accuracy\")\n",
    "        val_acc = logs.get(\"val_accuracy\")\n",
    "        if train_acc >= stop_acc and val_acc >= stop_acc:\n",
    "            print(\n",
    "                f\"\\nStopping early at epoch {epoch + 1} - train accuracy: {train_acc:.4f}, validation accuracy: {val_acc:.4f}\"\n",
    "            )\n",
    "            self.model.stop_training = True"
   ]
  },
  {
   "cell_type": "code",
   "execution_count": null,
   "metadata": {},
   "outputs": [],
   "source": [
    "# Baseline FFNN Model\n",
    "baseline_model = Sequential()\n",
    "\n",
    "baseline_model.add(Flatten())\n",
    "baseline_model.add(Dense(units=128, activation=\"relu\"))\n",
    "baseline_model.add(Dense(units=128, activation=\"relu\"))\n",
    "baseline_model.add(Dense(units=1, activation=\"sigmoid\"))\n",
    "\n",
    "# Compile the model\n",
    "learning_rate = 0.0001\n",
    "baseline_model.compile(\n",
    "    optimizer=Adam(learning_rate=learning_rate),\n",
    "    loss=\"binary_crossentropy\",\n",
    "    metrics=[\"accuracy\"],\n",
    ")\n",
    "\n",
    "# Train the model\n",
    "max_epochs = 50\n",
    "history = baseline_model.fit(\n",
    "    train_set,\n",
    "    validation_data=val_set,\n",
    "    epochs=max_epochs,\n",
    "    callbacks=[CustomEarlyStopping()],\n",
    ")"
   ]
  },
  {
   "cell_type": "code",
   "execution_count": null,
   "metadata": {},
   "outputs": [],
   "source": [
    "# Define the CNN\n",
    "model = Sequential()\n",
    "\n",
    "model.add(\n",
    "    Conv2D(\n",
    "        filters=32,\n",
    "        kernel_size=(3, 3),\n",
    "        activation=\"relu\",\n",
    "        input_shape=(img_height, img_width, 3),\n",
    "    )\n",
    ")\n",
    "model.add(MaxPooling2D(pool_size=2, strides=2))\n",
    "\n",
    "model.add(Conv2D(filters=64, kernel_size=(3, 3), activation=\"relu\"))\n",
    "model.add(MaxPooling2D(pool_size=2, strides=2))\n",
    "\n",
    "model.add(Conv2D(filters=128, kernel_size=(3, 3), activation=\"relu\"))\n",
    "model.add(MaxPooling2D(pool_size=2, strides=2))\n",
    "\n",
    "model.add(Flatten())\n",
    "model.add(Dense(units=128, activation=\"relu\"))\n",
    "model.add(Dropout(rate=0.5))\n",
    "\n",
    "model.add(Dense(units=1, activation=\"sigmoid\"))  # Binary classification\n",
    "\n",
    "# Compile the model\n",
    "learning_rate = 0.0001\n",
    "model.compile(\n",
    "    optimizer=Adam(learning_rate=learning_rate),\n",
    "    loss=\"binary_crossentropy\",\n",
    "    metrics=[\"accuracy\"],\n",
    ")\n",
    "\n",
    "# Train the model\n",
    "max_epochs = 50\n",
    "history = model.fit(\n",
    "    train_set,\n",
    "    validation_data=val_set,\n",
    "    epochs=max_epochs,\n",
    "    callbacks=[CustomEarlyStopping()],\n",
    ")"
   ]
  },
  {
   "cell_type": "markdown",
   "metadata": {},
   "source": [
    "---\n",
    "### Step 6: Evaluation"
   ]
  },
  {
   "cell_type": "code",
   "execution_count": null,
   "metadata": {},
   "outputs": [],
   "source": [
    "# Evaluate on test set\n",
    "test_loss, test_acc = model.evaluate(test_set)\n",
    "print(f\"Test Accuracy: {test_acc:.4f}\")"
   ]
  }
 ],
 "metadata": {
  "kernelspec": {
   "display_name": "207-final",
   "language": "python",
   "name": "python3"
  },
  "language_info": {
   "codemirror_mode": {
    "name": "ipython",
    "version": 3
   },
   "file_extension": ".py",
   "mimetype": "text/x-python",
   "name": "python",
   "nbconvert_exporter": "python",
   "pygments_lexer": "ipython3",
   "version": "3.10.13"
  }
 },
 "nbformat": 4,
 "nbformat_minor": 4
}
